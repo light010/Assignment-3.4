{
 "cells": [
  {
   "cell_type": "markdown",
   "metadata": {},
   "source": [
    "# find Variance of the following data\n",
    "\n",
    "$3, 21, 98, 203, 17, 9$"
   ]
  },
  {
   "cell_type": "markdown",
   "metadata": {},
   "source": [
    "## 1. first method:-\n",
    "\n",
    "* **calculating mean**-\n",
    "$$\\bar{X} = \\frac{1}{n} \\sum_{i=1}^n X_i$$"
   ]
  },
  {
   "cell_type": "code",
   "execution_count": 5,
   "metadata": {},
   "outputs": [
    {
     "data": {
      "text/plain": [
       "58.5"
      ]
     },
     "execution_count": 5,
     "metadata": {},
     "output_type": "execute_result"
    }
   ],
   "source": [
    "mean_of_data = (3 + 21 + 98 + 203 + 17 + 9)/6       #hear 6 is the sample size\n",
    "mean_of_data"
   ]
  },
  {
   "cell_type": "markdown",
   "metadata": {},
   "source": [
    "* **calculating varience**-\n",
    "$$s^2 = \\frac{1}{N} \\sum_{i=1}^n (X_i - \\bar{X})^2$$"
   ]
  },
  {
   "cell_type": "code",
   "execution_count": 6,
   "metadata": {},
   "outputs": [
    {
     "data": {
      "text/plain": [
       "5183.25"
      ]
     },
     "execution_count": 6,
     "metadata": {},
     "output_type": "execute_result"
    }
   ],
   "source": [
    "varience_of_data = ((3-mean_of_data)**2 + (21-mean_of_data)**2 + (98-mean_of_data)**2 + (203-mean_of_data)**2 +(17-mean_of_data)**2 + (9-mean_of_data)**2) / 6  \n",
    "\n",
    "varience_of_data                                                                 # 6 is the sample size"
   ]
  },
  {
   "cell_type": "markdown",
   "metadata": {},
   "source": [
    "***\n",
    "## 2. second method:-"
   ]
  },
  {
   "cell_type": "markdown",
   "metadata": {},
   "source": [
    "* **calculating probability of each element of the sample: **\n",
    "\n",
    "    &nbsp; &nbsp; each element of the sample has a equal probability - $$P(X) = 1/6$$\n",
    "    &nbsp; &nbsp; X is any value of the sample"
   ]
  },
  {
   "cell_type": "markdown",
   "metadata": {},
   "source": [
    "* **Calculating Expected value of the sample**:-<br>\n",
    "$$E(X) = \\mu = \\sum P(X).X$$"
   ]
  },
  {
   "cell_type": "code",
   "execution_count": 7,
   "metadata": {},
   "outputs": [
    {
     "data": {
      "text/plain": [
       "58.49999999999999"
      ]
     },
     "execution_count": 7,
     "metadata": {},
     "output_type": "execute_result"
    }
   ],
   "source": [
    "exp_val = ((1/6)*3 + (1/6)*21 + (1/6)*98 + (1/6)*203 + (1/6)*17 + (1/6)*9) \n",
    "exp_val"
   ]
  },
  {
   "cell_type": "markdown",
   "metadata": {},
   "source": [
    "* **Calculating varience of the sample** :-\n",
    "$$V(X) = E(X-\\mu)^2$$\n",
    "    &nbsp; &nbsp; &nbsp; &nbsp; &nbsp; &nbsp; &nbsp; &nbsp; &nbsp; &nbsp; &nbsp; &nbsp; if $(X-\\mu)^2 = g(X)$<br>\n",
    "    &nbsp; &nbsp; &nbsp; &nbsp; &nbsp; &nbsp; &nbsp; &nbsp; &nbsp; &nbsp; &nbsp; &nbsp; then $$ V(X) = \\sum P(X).g(X)$$"
   ]
  },
  {
   "cell_type": "code",
   "execution_count": 9,
   "metadata": {},
   "outputs": [
    {
     "data": {
      "text/plain": [
       "5183.25"
      ]
     },
     "execution_count": 9,
     "metadata": {},
     "output_type": "execute_result"
    }
   ],
   "source": [
    "var = ((1/6)*(3-exp_val)**2 + (1/6)*(21-exp_val)**2 + (1/6)*(98-exp_val)**2 + (1/6)*(203-exp_val)**2 + (1/6)*(17-exp_val)**2 + (1/6)*(9-exp_val)**2) \n",
    "var"
   ]
  },
  {
   "cell_type": "code",
   "execution_count": null,
   "metadata": {
    "collapsed": true
   },
   "outputs": [],
   "source": []
  }
 ],
 "metadata": {
  "kernelspec": {
   "display_name": "Python 3",
   "language": "python",
   "name": "python3"
  },
  "language_info": {
   "codemirror_mode": {
    "name": "ipython",
    "version": 3
   },
   "file_extension": ".py",
   "mimetype": "text/x-python",
   "name": "python",
   "nbconvert_exporter": "python",
   "pygments_lexer": "ipython3",
   "version": "3.6.3"
  }
 },
 "nbformat": 4,
 "nbformat_minor": 2
}
